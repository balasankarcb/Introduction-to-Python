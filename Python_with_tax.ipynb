{
  "nbformat": 4,
  "nbformat_minor": 0,
  "metadata": {
    "colab": {
      "name": "Python with tax",
      "provenance": []
    },
    "kernelspec": {
      "name": "python3",
      "display_name": "Python 3"
    },
    "language_info": {
      "name": "python"
    }
  },
  "cells": [
    {
      "cell_type": "code",
      "execution_count": 27,
      "metadata": {
        "id": "HKu_-2WhuAH1"
      },
      "outputs": [],
      "source": [
        "x=20"
      ]
    },
    {
      "cell_type": "code",
      "source": [
        "if x>10:\n",
        "  print(\"x>10\")"
      ],
      "metadata": {
        "colab": {
          "base_uri": "https://localhost:8080/"
        },
        "id": "9UTprPrbuhA3",
        "outputId": "73e6eead-347d-499e-c6cc-6423bccfb632"
      },
      "execution_count": 28,
      "outputs": [
        {
          "output_type": "stream",
          "name": "stdout",
          "text": [
            "x>10\n"
          ]
        }
      ]
    },
    {
      "cell_type": "code",
      "source": [
        "x=20\n",
        "if x>10:\n",
        "  print(\"x>10\")\n",
        "if x<10:\n",
        "  print(\"x<10\")\n",
        "if x==10:\n",
        "  print(\"x==10\")"
      ],
      "metadata": {
        "colab": {
          "base_uri": "https://localhost:8080/"
        },
        "id": "1h799znBvqq_",
        "outputId": "23ad09d4-0e97-4183-82f4-0fe280f79106"
      },
      "execution_count": 29,
      "outputs": [
        {
          "output_type": "stream",
          "name": "stdout",
          "text": [
            "x>10\n"
          ]
        }
      ]
    },
    {
      "cell_type": "code",
      "source": [
        "x=int(input(\"enter the number\"))\n",
        "if x>100:\n",
        "  print(\"PASS\")\n",
        "if x<100:\n",
        "  print(\"FAIL\")\n",
        "if x==100:\n",
        "  print(\"000\")"
      ],
      "metadata": {
        "colab": {
          "base_uri": "https://localhost:8080/"
        },
        "id": "gyNVPoAC3gi3",
        "outputId": "fa3467c0-442c-4645-af4b-8c8a94e1005e"
      },
      "execution_count": 30,
      "outputs": [
        {
          "output_type": "stream",
          "name": "stdout",
          "text": [
            "enter the number180\n",
            "PASS\n"
          ]
        }
      ]
    },
    {
      "cell_type": "code",
      "source": [
        "x=int(input(\"enter your salary\"))\n",
        "if x>250000:\n",
        "  print(\"Your tax is\", x*10/100)\n",
        "if x<=250000:\n",
        "  print(\"no tax\")\n"
      ],
      "metadata": {
        "colab": {
          "base_uri": "https://localhost:8080/"
        },
        "id": "SF4qBOpX8slH",
        "outputId": "5dd081eb-f683-4cac-91dd-ac638b3caafe"
      },
      "execution_count": 26,
      "outputs": [
        {
          "output_type": "stream",
          "name": "stdout",
          "text": [
            "enter your salary260000\n",
            "Your tax is 26000.0\n"
          ]
        }
      ]
    },
    {
      "cell_type": "code",
      "source": [
        ""
      ],
      "metadata": {
        "id": "pe29cq2T9SyB"
      },
      "execution_count": 26,
      "outputs": []
    }
  ]
}